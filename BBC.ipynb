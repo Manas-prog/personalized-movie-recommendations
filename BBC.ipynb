{
 "cells": [
  {
   "cell_type": "code",
   "execution_count": 11,
   "metadata": {},
   "outputs": [
    {
     "name": "stdout",
     "output_type": "stream",
     "text": [
      "Collecting scikit-surprise\n",
      "  Downloading scikit_surprise-1.1.4.tar.gz (154 kB)\n",
      "  Installing build dependencies: started\n",
      "  Installing build dependencies: finished with status 'done'\n",
      "  Getting requirements to build wheel: started\n",
      "  Getting requirements to build wheel: finished with status 'done'\n",
      "    Preparing wheel metadata: started\n",
      "    Preparing wheel metadata: finished with status 'done'\n",
      "Collecting numpy>=1.19.5\n",
      "  Downloading numpy-1.24.4-cp38-cp38-win_amd64.whl (14.9 MB)\n",
      "Collecting scipy>=1.6.0\n",
      "  Downloading scipy-1.10.1-cp38-cp38-win_amd64.whl (42.2 MB)\n",
      "Collecting joblib>=1.2.0\n",
      "  Downloading joblib-1.4.2-py3-none-any.whl (301 kB)\n",
      "Building wheels for collected packages: scikit-surprise\n",
      "  Building wheel for scikit-surprise (PEP 517): started\n",
      "  Building wheel for scikit-surprise (PEP 517): finished with status 'done'\n",
      "  Created wheel for scikit-surprise: filename=scikit_surprise-1.1.4-cp38-cp38-win_amd64.whl size=1292930 sha256=f73965f9e09938af3306cadd99ccd3d975dced41d04e6b5e1431ecf1fa80d969\n",
      "  Stored in directory: c:\\users\\manas\\appdata\\local\\pip\\cache\\wheels\\99\\34\\23\\b19f7de7352af5d1913f2654641432d6740c2666eecf2472ea\n",
      "Successfully built scikit-surprise\n",
      "Installing collected packages: numpy, scipy, joblib, scikit-surprise\n",
      "  Attempting uninstall: numpy\n",
      "    Found existing installation: numpy 1.19.2\n",
      "    Uninstalling numpy-1.19.2:\n",
      "      Successfully uninstalled numpy-1.19.2\n",
      "  Attempting uninstall: scipy\n",
      "    Found existing installation: scipy 1.5.2\n",
      "    Uninstalling scipy-1.5.2:\n",
      "      Successfully uninstalled scipy-1.5.2\n",
      "  Attempting uninstall: joblib\n",
      "    Found existing installation: joblib 0.17.0\n",
      "    Uninstalling joblib-0.17.0:\n",
      "      Successfully uninstalled joblib-0.17.0\n",
      "Successfully installed joblib-1.4.2 numpy-1.24.4 scikit-surprise-1.1.4 scipy-1.10.1\n"
     ]
    }
   ],
   "source": [
    "!pip install scikit-surprise"
   ]
  },
  {
   "cell_type": "code",
   "execution_count": null,
   "metadata": {},
   "outputs": [],
   "source": [
    "import os\n",
    "import pandas as pd\n",
    "import numpy as np\n",
    "from datetime import datetime"
   ]
  },
  {
   "cell_type": "code",
   "execution_count": 16,
   "metadata": {},
   "outputs": [
    {
     "name": "stdout",
     "output_type": "stream",
     "text": [
      "Collecting xgboost\n",
      "  Downloading xgboost-2.1.4-py3-none-win_amd64.whl (124.9 MB)\n",
      "Requirement already satisfied: numpy in c:\\users\\manas\\anaconda3\\lib\\site-packages (from xgboost) (1.24.4)\n",
      "Requirement already satisfied: scipy in c:\\users\\manas\\anaconda3\\lib\\site-packages (from xgboost) (1.10.1)\n",
      "Installing collected packages: xgboost\n",
      "Successfully installed xgboost-2.1.4\n"
     ]
    }
   ],
   "source": [
    "!pip install xgboost"
   ]
  },
  {
   "cell_type": "code",
   "execution_count": 19,
   "metadata": {},
   "outputs": [
    {
     "name": "stdout",
     "output_type": "stream",
     "text": [
      "Collecting pandas\n",
      "  Downloading pandas-2.0.3-cp38-cp38-win_amd64.whl (10.8 MB)\n",
      "Collecting python-dateutil>=2.8.2\n",
      "  Using cached python_dateutil-2.9.0.post0-py2.py3-none-any.whl (229 kB)\n",
      "Requirement already satisfied, skipping upgrade: pytz>=2020.1 in c:\\users\\manas\\anaconda3\\lib\\site-packages (from pandas) (2020.1)\n",
      "Requirement already satisfied, skipping upgrade: numpy>=1.20.3; python_version < \"3.10\" in c:\\users\\manas\\anaconda3\\lib\\site-packages (from pandas) (1.24.4)\n",
      "Collecting tzdata>=2022.1\n",
      "  Downloading tzdata-2025.2-py2.py3-none-any.whl (347 kB)\n",
      "Requirement already satisfied, skipping upgrade: six>=1.5 in c:\\users\\manas\\anaconda3\\lib\\site-packages (from python-dateutil>=2.8.2->pandas) (1.15.0)\n",
      "Installing collected packages: python-dateutil, tzdata, pandas\n",
      "  Attempting uninstall: python-dateutil\n",
      "    Found existing installation: python-dateutil 2.8.1\n",
      "    Uninstalling python-dateutil-2.8.1:\n",
      "      Successfully uninstalled python-dateutil-2.8.1\n",
      "  Attempting uninstall: pandas\n",
      "    Found existing installation: pandas 1.1.3\n",
      "    Uninstalling pandas-1.1.3:\n",
      "      Successfully uninstalled pandas-1.1.3\n",
      "Successfully installed pandas-2.0.3 python-dateutil-2.9.0.post0 tzdata-2025.2\n"
     ]
    }
   ],
   "source": [
    "!pip install --upgrade pandas"
   ]
  },
  {
   "cell_type": "code",
   "execution_count": 20,
   "metadata": {},
   "outputs": [],
   "source": [
    "# === 1. Import Libraries ===\n",
    "import pandas as pd\n",
    "import numpy as np\n",
    "import xgboost as xgb\n",
    "from sklearn.model_selection import train_test_split\n",
    "from sklearn.metrics import mean_squared_error, mean_absolute_error\n",
    "import joblib\n",
    "import os"
   ]
  },
  {
   "cell_type": "code",
   "execution_count": 39,
   "metadata": {},
   "outputs": [],
   "source": [
    "# Movie Recommendation System with Belief Elicitation Data\n",
    "# Author: Manas Mondal\n",
    "# BBC Data Scientist Role Project\n",
    "\n",
    "# === 2. Load Datasets ===\n",
    "movies = pd.read_csv('C:\\\\Users\\\\Manas\\\\Downloads\\\\ml_belief_2024_data_release_2\\\\data_release\\\\movies.csv')\n",
    "ratings = pd.read_csv('C:\\\\Users\\\\Manas\\\\Downloads\\\\ml_belief_2024_data_release_2\\\\data_release\\\\user_rating_history.csv')\n",
    "beliefs = pd.read_csv('C:\\\\Users\\\\Manas\\\\Downloads\\\\ml_belief_2024_data_release_2\\\\data_release\\\\belief_data.csv')\n",
    "recommendations = pd.read_csv('C:\\\\Users\\\\Manas\\\\Downloads\\\\ml_belief_2024_data_release_2\\\\data_release\\\\user_recommendation_history.csv')\n"
   ]
  },
  {
   "cell_type": "code",
   "execution_count": 44,
   "metadata": {},
   "outputs": [
    {
     "name": "stdout",
     "output_type": "stream",
     "text": [
      "Number of NaNs in features: 0\n",
      "Number of NaNs in target: 0\n",
      "Any Infinities in target? False\n",
      "RMSE: 1.4157\n",
      "MAE: 1.0598\n"
     ]
    }
   ],
   "source": [
    "import pandas as pd\n",
    "import numpy as np\n",
    "import xgboost as xgb\n",
    "from sklearn.model_selection import train_test_split\n",
    "from sklearn.metrics import mean_squared_error, mean_absolute_error\n",
    "\n",
    "# === 3. Merge and Preprocess ===\n",
    "# Use ratings + beliefs\n",
    "ratings = ratings.rename(columns={'rating': 'actual_rating'})\n",
    "data = pd.merge(ratings, beliefs[['userId', 'movieId', 'userPredictRating', 'userCertainty']], on=['userId', 'movieId'], how='left')\n",
    "data = pd.merge(data, movies[['movieId', 'genres']], on='movieId', how='left')\n",
    "\n",
    "# Feature Engineering\n",
    "data['userPredictRating'].fillna(data['actual_rating'].mean(), inplace=True)\n",
    "data['userCertainty'].fillna(data['userCertainty'].mean(), inplace=True)\n",
    "data['genre_count'] = data['genres'].apply(lambda x: len(str(x).split('|')) if pd.notnull(x) else 0)\n",
    "\n",
    "# Drop unnecessary columns\n",
    "data.drop(columns=['genres'], inplace=True)\n",
    "\n",
    "# Important: Clean target column\n",
    "data['actual_rating'].fillna(data['actual_rating'].mean(), inplace=True)\n",
    "data = data[np.isfinite(data['actual_rating'])]\n",
    "\n",
    "# === Quick Check (optional but recommended) ===\n",
    "print(f\"Number of NaNs in features: {data[['userId', 'movieId', 'userPredictRating', 'userCertainty', 'genre_count']].isnull().sum().sum()}\")\n",
    "print(f\"Number of NaNs in target: {data['actual_rating'].isnull().sum()}\")\n",
    "print(f\"Any Infinities in target? {np.isinf(data['actual_rating']).any()}\")\n",
    "\n",
    "# === 4. Feature Matrix and Target ===\n",
    "features = ['userId', 'movieId', 'userPredictRating', 'userCertainty', 'genre_count']\n",
    "X = data[features]\n",
    "y = data['actual_rating']\n",
    "\n",
    "# Train-test split\n",
    "X_train, X_test, y_train, y_test = train_test_split(X, y, test_size=0.2, random_state=42)\n",
    "\n",
    "# === 5. Train Model ===\n",
    "model = xgb.XGBRegressor(\n",
    "    objective='reg:squarederror',\n",
    "    n_estimators=100,\n",
    "    max_depth=6,\n",
    "    learning_rate=0.1,\n",
    "    random_state=42\n",
    ")\n",
    "\n",
    "model.fit(X_train.values, y_train.values)\n",
    "\n",
    "# === 6. Evaluate Model ===\n",
    "y_pred = model.predict(X_test.values)\n",
    "rmse = np.sqrt(mean_squared_error(y_test, y_pred))\n",
    "mae = mean_absolute_error(y_test, y_pred)\n",
    "\n",
    "print(f\"RMSE: {rmse:.4f}\")\n",
    "print(f\"MAE: {mae:.4f}\")\n"
   ]
  },
  {
   "cell_type": "code",
   "execution_count": 52,
   "metadata": {},
   "outputs": [],
   "source": [
    "os.makedirs('s3_bucket/models', exist_ok=True)\n",
    "joblib.dump(model, 's3_bucket/models/movie_recommender.pkl')\n",
    "model = joblib.load('s3_bucket/models/movie_recommender.pkl')"
   ]
  },
  {
   "cell_type": "code",
   "execution_count": 53,
   "metadata": {},
   "outputs": [],
   "source": [
    "def recommend(user_id, top_n=5):\n",
    "    user_movies = X[X['userId'] == user_id]\n",
    "    user_preds = model.predict(user_movies.values)\n",
    "    user_movies = user_movies.copy()\n",
    "    user_movies['predicted_rating'] = user_preds\n",
    "    top_recommendations = user_movies.sort_values('predicted_rating', ascending=False).head(top_n)\n",
    "    \n",
    "    # Merge with movie titles\n",
    "    top_recommendations = pd.merge(top_recommendations, movies[['movieId', 'title']], on='movieId', how='left')\n",
    "    return top_recommendations[['title', 'predicted_rating']]\n"
   ]
  },
  {
   "cell_type": "code",
   "execution_count": 55,
   "metadata": {},
   "outputs": [
    {
     "name": "stdout",
     "output_type": "stream",
     "text": [
      "[ 42170  43715  44282 ... 410562 410566 410572]\n"
     ]
    }
   ],
   "source": [
    "print(X['userId'].unique())"
   ]
  },
  {
   "cell_type": "code",
   "execution_count": 58,
   "metadata": {},
   "outputs": [
    {
     "name": "stdout",
     "output_type": "stream",
     "text": [
      "\n",
      "Example Recommendations:\n",
      "                                               title  predicted_rating\n",
      "0                                   Inception (2010)          3.955132\n",
      "1                   Shawshank Redemption, The (1994)          3.859077\n",
      "2                         Clockwork Orange, A (1971)          3.853248\n",
      "3  Star Wars: Episode VI - Return of the Jedi (1983)          3.853248\n",
      "4                            Army of Darkness (1993)          3.842505\n"
     ]
    }
   ],
   "source": [
    "print(\"\\nExample Recommendations:\")\n",
    "print(recommend(user_id=44282, top_n=5))            "
   ]
  },
  {
   "cell_type": "code",
   "execution_count": 60,
   "metadata": {},
   "outputs": [
    {
     "name": "stderr",
     "output_type": "stream",
     "text": [
      "2025-04-27 16:50:02.077 WARNING streamlit.runtime.scriptrunner_utils.script_run_context: Thread 'MainThread': missing ScriptRunContext! This warning can be ignored when running in bare mode.\n",
      "2025-04-27 16:50:02.262 \n",
      "  \u001b[33m\u001b[1mWarning:\u001b[0m to view this Streamlit app on a browser, run it with the following\n",
      "  command:\n",
      "\n",
      "    streamlit run C:\\Users\\Manas\\anaconda3\\lib\\site-packages\\ipykernel_launcher.py [ARGUMENTS]\n",
      "2025-04-27 16:50:02.265 Thread 'MainThread': missing ScriptRunContext! This warning can be ignored when running in bare mode.\n",
      "2025-04-27 16:50:02.267 Thread 'MainThread': missing ScriptRunContext! This warning can be ignored when running in bare mode.\n",
      "2025-04-27 16:50:02.268 Thread 'MainThread': missing ScriptRunContext! This warning can be ignored when running in bare mode.\n",
      "2025-04-27 16:50:02.295 Thread 'MainThread': missing ScriptRunContext! This warning can be ignored when running in bare mode.\n",
      "2025-04-27 16:50:02.298 Thread 'MainThread': missing ScriptRunContext! This warning can be ignored when running in bare mode.\n",
      "2025-04-27 16:50:02.307 Thread 'MainThread': missing ScriptRunContext! This warning can be ignored when running in bare mode.\n",
      "2025-04-27 16:50:02.311 Thread 'MainThread': missing ScriptRunContext! This warning can be ignored when running in bare mode.\n",
      "2025-04-27 16:50:02.312 Session state does not function when running a script without `streamlit run`\n",
      "2025-04-27 16:50:02.316 Thread 'MainThread': missing ScriptRunContext! This warning can be ignored when running in bare mode.\n",
      "2025-04-27 16:50:02.317 Thread 'MainThread': missing ScriptRunContext! This warning can be ignored when running in bare mode.\n",
      "2025-04-27 16:50:02.318 Thread 'MainThread': missing ScriptRunContext! This warning can be ignored when running in bare mode.\n",
      "2025-04-27 16:50:02.319 Thread 'MainThread': missing ScriptRunContext! This warning can be ignored when running in bare mode.\n",
      "2025-04-27 16:50:02.319 Thread 'MainThread': missing ScriptRunContext! This warning can be ignored when running in bare mode.\n",
      "2025-04-27 16:50:02.320 Thread 'MainThread': missing ScriptRunContext! This warning can be ignored when running in bare mode.\n",
      "2025-04-27 16:50:02.321 Thread 'MainThread': missing ScriptRunContext! This warning can be ignored when running in bare mode.\n",
      "2025-04-27 16:50:02.323 Thread 'MainThread': missing ScriptRunContext! This warning can be ignored when running in bare mode.\n",
      "2025-04-27 16:50:02.325 Thread 'MainThread': missing ScriptRunContext! This warning can be ignored when running in bare mode.\n",
      "2025-04-27 16:50:02.326 Thread 'MainThread': missing ScriptRunContext! This warning can be ignored when running in bare mode.\n",
      "2025-04-27 16:50:02.327 Thread 'MainThread': missing ScriptRunContext! This warning can be ignored when running in bare mode.\n",
      "2025-04-27 16:50:02.328 Thread 'MainThread': missing ScriptRunContext! This warning can be ignored when running in bare mode.\n",
      "2025-04-27 16:50:02.329 Thread 'MainThread': missing ScriptRunContext! This warning can be ignored when running in bare mode.\n",
      "2025-04-27 16:50:02.330 Thread 'MainThread': missing ScriptRunContext! This warning can be ignored when running in bare mode.\n"
     ]
    },
    {
     "data": {
      "text/plain": [
       "DeltaGenerator()"
      ]
     },
     "execution_count": 60,
     "metadata": {},
     "output_type": "execute_result"
    }
   ],
   "source": [
    "# Streamlit App: Movie Recommendation System\n",
    "# Author: Manas Mondal\n",
    "\n",
    "import streamlit as st\n",
    "import pandas as pd\n",
    "import joblib\n",
    "\n",
    "# Prepare feature data (must match training process)\n",
    "ratings = ratings.rename(columns={'rating': 'actual_rating'})\n",
    "data = pd.merge(ratings, beliefs[['userId', 'movieId', 'userPredictRating', 'userCertainty']], on=['userId', 'movieId'], how='left')\n",
    "data = pd.merge(data, movies[['movieId', 'title', 'genres']], on='movieId', how='left')\n",
    "\n",
    "data['userPredictRating'].fillna(data['actual_rating'].mean(), inplace=True)\n",
    "data['userCertainty'].fillna(data['userCertainty'].mean(), inplace=True)\n",
    "data['genre_count'] = data['genres'].apply(lambda x: len(str(x).split('|')) if pd.notnull(x) else 0)\n",
    "\n",
    "X = data[['userId', 'movieId', 'userPredictRating', 'userCertainty', 'genre_count']]\n",
    "\n",
    "# Streamlit App Layout\n",
    "st.title(\"🎬 Personalized Movie Recommendation System\")\n",
    "\n",
    "st.markdown(\"\"\"\n",
    "This app provides personalized movie recommendations based on user behavior and belief elicitation insights. \n",
    "Select your **User ID** to view your top recommended movies!\n",
    "\"\"\")\n",
    "\n",
    "# User ID selection\n",
    "unique_users = X['userId'].unique()\n",
    "user_id = st.selectbox(\"Select User ID\", unique_users)\n",
    "\n",
    "# Number of recommendations\n",
    "top_n = st.slider(\"Number of Recommendations\", 1, 20, 5)\n",
    "\n",
    "# Recommendation function\n",
    "def recommend(user_id, top_n=5):\n",
    "    user_movies = X[X['userId'] == user_id]\n",
    "    user_preds = model.predict(user_movies.values)\n",
    "    user_movies = user_movies.copy()\n",
    "    user_movies['predicted_rating'] = user_preds\n",
    "    top_recommendations = user_movies.sort_values('predicted_rating', ascending=False).head(top_n)\n",
    "    top_recommendations = pd.merge(top_recommendations, movies[['movieId', 'title']], on='movieId', how='left')\n",
    "    return top_recommendations[['title', 'predicted_rating']]\n",
    "\n",
    "# Recommend button\n",
    "if st.button(\"Get Recommendations\"):\n",
    "    recommendations = recommend(user_id, top_n)\n",
    "    st.subheader(f\"Top {top_n} Recommended Movies for User {user_id}\")\n",
    "    st.table(recommendations)\n",
    "\n",
    "# Footer\n",
    "st.markdown(\"\"\"\n",
    "---\n",
    "Created by **Manas Mondal**  \n",
    "Powered by XGBoost + Streamlit 🚀\n",
    "\"\"\")\n"
   ]
  },
  {
   "cell_type": "code",
   "execution_count": null,
   "metadata": {},
   "outputs": [],
   "source": []
  }
 ],
 "metadata": {
  "kernelspec": {
   "display_name": "Python 3",
   "language": "python",
   "name": "python3"
  },
  "language_info": {
   "codemirror_mode": {
    "name": "ipython",
    "version": 3
   },
   "file_extension": ".py",
   "mimetype": "text/x-python",
   "name": "python",
   "nbconvert_exporter": "python",
   "pygments_lexer": "ipython3",
   "version": "3.8.5"
  }
 },
 "nbformat": 4,
 "nbformat_minor": 4
}
